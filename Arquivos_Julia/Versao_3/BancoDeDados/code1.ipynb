{
 "cells": [
  {
   "cell_type": "code",
   "execution_count": 1,
   "metadata": {},
   "outputs": [],
   "source": [
    "# Importando o módulo de acesso ao SQLite\n",
    "import sqlite3 as sql\n",
    "\n",
    "# conexao = sqlite3.connect('nerddosdados.db')\n",
    "\n",
    "# Conectando ao banco \n",
    "banco = sql.connect(r'C:\\Users\\labga\\OneDrive\\Documentos\\IC_Julia\\PROJETO_IC_IFES_BICO_DE_LANCA\\BancoDeDados\\REGISTROS_TESTE.db')\n",
    "cursor = banco.cursor()\n"
   ]
  },
  {
   "cell_type": "code",
   "execution_count": 2,
   "metadata": {},
   "outputs": [
    {
     "name": "stdout",
     "output_type": "stream",
     "text": [
      "Feito\n"
     ]
    }
   ],
   "source": [
    "#import sqlite3 as sql\n",
    "\n",
    "cursor.execute (\"\"\"CREATE TABLE \"B4\" (\"ID\"   INTEGER NOT NULL,\n",
    "                                    \"TIPO\"  TEXT NOT NULL,\n",
    "                                    \"ARQUIVO\"   TEXT NOT NULL,\n",
    "                                    \"DATA\"  NUMERIC NOT NULL,\n",
    "                                    \"HORA\"  NUMERIC NOT NULL,\n",
    "                                    \"EXTERNO\"   INTEGER NOT NULL,\n",
    "                                    \"FURO_1\"    REAL NOT NULL,\n",
    "                                    \"FURO_2\"    REAL NOT NULL,\n",
    "                                    \"FURO_3\"    REAL NOT NULL,\n",
    "                                    \"FURO_4\"    REAL NOT NULL,\n",
    "                                    PRIMARY KEY(\"ID\")\n",
    "                                    )\"\"\")\n",
    "\n",
    "\n",
    "banco.commit()\n",
    "print('Feito')"
   ]
  },
  {
   "cell_type": "code",
   "execution_count": 5,
   "metadata": {},
   "outputs": [],
   "source": [
    "# Forma numero 2 - fazendo um insert para inserir vários registros de uma vez\n",
    "comando = \"INSERT INTO B4 VALUES (?, ?, ?, ?, ?, ?, ?, ?, ?, ?)\"\n",
    "\n",
    "registros = [('001', '40/8', 'registro_001_18-03-2024_13.23.png', '18/03/2024', '13:23', 381.3, 85.15, 88.66, 86.58, 79.0), \n",
    "             ('002', '40/5', 'registro_002_27-03-2024_13.26.png', '27/03/2024', '13:26', 414.07, 47.59, 53.42, 48.66, 55.69)]\n",
    "\n",
    "# Inserindo os registros\n",
    "for registro in registros:    \n",
    "    cursor.execute(comando, registro)\n",
    "\n",
    " \n",
    "# Grava a transação\n",
    "banco.commit()"
   ]
  },
  {
   "cell_type": "code",
   "execution_count": 12,
   "metadata": {},
   "outputs": [],
   "source": [
    "# Feche a conexão com o banco de dados\n",
    "cursor.close()"
   ]
  },
  {
   "cell_type": "code",
   "execution_count": 10,
   "metadata": {},
   "outputs": [],
   "source": [
    "import sqlite3 as sql\n",
    "\n",
    "# Jogar as informações de ID, o tipo, o nome do arquivo, data, hora e os diametros\n",
    "def salvar_registros(lista):\n",
    "\n",
    "    # Conectando ao banco \n",
    "    banco = sql.connect(r'C:\\Users\\labga\\OneDrive\\Documentos\\IC_Julia\\PROJETO_IC_IFES_BICO_DE_LANCA\\Versao_3\\BancoDeDados\\REGISTROS.db')\n",
    "    cursor = banco.cursor()\n",
    "\n",
    "    # Forma numero 2 - fazendo um insert para inserir vários registros de uma vez\n",
    "    comando = \"INSERT INTO B4 VALUES (?, ?, ?, ?, ?, ?, ?, ?, ?, ?)\"\n",
    "\n",
    "    registro = (lista[0], lista[1], lista[2], lista[3], lista[4], lista[5], lista[6], lista[7], lista[8], lista[9])\n",
    "\n",
    "    cursor.execute(comando, registro)\n",
    "\n",
    "    # Grava a transação\n",
    "    banco.commit()\n",
    "\n",
    "    # Feche a conexão com o banco de dados\n",
    "    cursor.close()\n",
    "\n",
    "    return "
   ]
  },
  {
   "cell_type": "code",
   "execution_count": 11,
   "metadata": {},
   "outputs": [],
   "source": [
    "lista_dados = [5, '30/5', 'registro_005_08-05-2024_14.00.png','08/05/2024', '14:00', 300, 50, 50, 50, 50]\n",
    "\n",
    "x = salvar_registros(lista_dados)"
   ]
  },
  {
   "cell_type": "code",
   "execution_count": 37,
   "metadata": {},
   "outputs": [
    {
     "name": "stdout",
     "output_type": "stream",
     "text": [
      "\n",
      " 07/04/2024\n",
      " 14:17\n"
     ]
    }
   ],
   "source": [
    "nome = 'registro_004_07-04-2024_14.17.png'\n",
    "\n",
    "data2 = nome[13:15] + '/' + nome[16:18] + '/' + nome[19:23]\n",
    "hora2 = nome[24:26] + ':' + nome[27:29]\n",
    "\n",
    "print('\\n', data2)\n",
    "print('', hora2)"
   ]
  },
  {
   "cell_type": "markdown",
   "metadata": {},
   "source": [
    "## Lógica para determinar o próximo valor de ID e de vida"
   ]
  },
  {
   "cell_type": "markdown",
   "metadata": {},
   "source": [
    "**Novo registro**\n",
    "\n",
    "Consulta o banco de dados e lê todos os ids já registrados até o momento. Em seguida, identifica qual é o maior ID registrado, e com base nele é definido o valor do próximo ID do novo bico registrado, que será uma unidade maior que o maior id registrado."
   ]
  },
  {
   "cell_type": "code",
   "execution_count": 77,
   "metadata": {},
   "outputs": [
    {
     "name": "stdout",
     "output_type": "stream",
     "text": [
      "9\n"
     ]
    }
   ],
   "source": [
    "import sqlite3\n",
    "\n",
    "def proximo_id(BD):\n",
    "\n",
    "    # Conectar ao banco de dados (ou criar um novo se não existir)\n",
    "    conn = sqlite3.connect('REGISTROS_WRL.db')\n",
    "\n",
    "    # Criar um cursor\n",
    "    cursor = conn.cursor()\n",
    "\n",
    "    # Executar uma consulta SQL para selecionar uma coluna inteira\n",
    "    cursor.execute(f\"SELECT ID FROM {BD}\")\n",
    "\n",
    "    # Iterar sobre os resultados e imprimir os valores da coluna\n",
    "    lista_ids = []\n",
    "    for row in cursor.fetchall():\n",
    "        id = row[0]  # O índice 0 corresponde à primeira coluna selecionada (id neste caso)\n",
    "        lista_ids.append(id)\n",
    "\n",
    "    \n",
    "    # Fechar cursor e conexão\n",
    "    cursor.close()\n",
    "    conn.close()\n",
    "\n",
    "    lista_ids_pura = list(set(lista_ids))\n",
    "    i = 0\n",
    "    maior_id = 0\n",
    "    for id in lista_ids_pura:\n",
    "        id_atual = lista_ids_pura[i]\n",
    "        \n",
    "        if id_atual > maior_id:\n",
    "            maior_id = id_atual\n",
    "        i += 1\n",
    "\n",
    "    id = maior_id + 1\n",
    "\n",
    "    return id\n",
    "\n",
    "BD = 'B4' # Informação fornecida no momento do login do usuário, pois ele informa quantos furos tem o bico\n",
    "\n",
    "id_post = proximo_id(BD)\n",
    "\n",
    "print(id_post)"
   ]
  },
  {
   "cell_type": "markdown",
   "metadata": {},
   "source": [
    "**Nova manutenção de registro já existente**\n",
    "\n",
    "Consulta o banco de dados e extrai todos os valores da coluna VIDA onde tenha o id fornecido, em seguida identifica a maior vida que está registrada e com base nela define a próxima vida, que será uma unidade maior que a maior vida."
   ]
  },
  {
   "cell_type": "code",
   "execution_count": 79,
   "metadata": {},
   "outputs": [
    {
     "name": "stdout",
     "output_type": "stream",
     "text": [
      "302\n"
     ]
    }
   ],
   "source": [
    "import sqlite3\n",
    "\n",
    "def atualizar_vida(id, BD):\n",
    "\n",
    "    # Conectar ao banco de dados (ou criar um novo se não existir)\n",
    "    conn = sqlite3.connect('REGISTROS_WRL.db')\n",
    "\n",
    "    # Criar um cursor\n",
    "    cursor = conn.cursor()\n",
    "\n",
    "    # Executar uma consulta SQL para selecionar uma coluna inteira\n",
    "    cursor.execute(f\"SELECT VIDA FROM {BD} WHERE id = ?\", (id,))\n",
    "\n",
    "    # Recuperar os resultados da consulta\n",
    "    resultados = cursor.fetchall()\n",
    "\n",
    "    # Fechar cursor e conexão\n",
    "    cursor.close()\n",
    "    conn.close()\n",
    "\n",
    "    lista_vidas = []\n",
    "    i = 0\n",
    "    for resultado in resultados:\n",
    "        elemento = list(resultados[i])\n",
    "        lista_vidas.append(elemento[0])\n",
    "        i += 1\n",
    "\n",
    "    i = 0\n",
    "    maior_vida = 0\n",
    "    for vida in lista_vidas:\n",
    "        vida_atual = lista_vidas[i]\n",
    "        \n",
    "        if vida_atual > maior_vida:\n",
    "            maior_vida = vida_atual\n",
    "        \n",
    "        i += 1\n",
    "\n",
    "    vida = maior_vida + 1\n",
    "\n",
    "    return vida\n",
    "\n",
    "id = '8'  # Informação fornecida no momento do login do usuário, pois ele informa o id do bico\n",
    "BD = 'B4' # Informação fornecida no momento do login do usuário, pois ele informa quantos furos tem o bico\n",
    "\n",
    "vida = atualizar_vida(id, BD)\n",
    "\n",
    "print(vida)"
   ]
  },
  {
   "cell_type": "code",
   "execution_count": 1,
   "metadata": {},
   "outputs": [
    {
     "name": "stdout",
     "output_type": "stream",
     "text": [
      "GPU não disponível.\n"
     ]
    }
   ],
   "source": [
    "import torch\n",
    "\n",
    "if torch.cuda.is_available():\n",
    "    print(\"GPU disponível.\")\n",
    "    print(\"Número de GPUs disponíveis:\", torch.cuda.device_count())\n",
    "else:\n",
    "    print(\"GPU não disponível.\")\n"
   ]
  }
 ],
 "metadata": {
  "kernelspec": {
   "display_name": "Python 3",
   "language": "python",
   "name": "python3"
  },
  "language_info": {
   "codemirror_mode": {
    "name": "ipython",
    "version": 3
   },
   "file_extension": ".py",
   "mimetype": "text/x-python",
   "name": "python",
   "nbconvert_exporter": "python",
   "pygments_lexer": "ipython3",
   "version": "3.11.5"
  }
 },
 "nbformat": 4,
 "nbformat_minor": 2
}
